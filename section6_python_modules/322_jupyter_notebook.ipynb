{
 "cells": [
  {
   "cell_type": "markdown",
   "id": "e55e710c-45a0-4e02-829d-68208c665ddf",
   "metadata": {},
   "source": [
    "# Title Here\n",
    "This line maintain the value of `a`"
   ]
  },
  {
   "cell_type": "code",
   "execution_count": 1,
   "id": "a0f568a4-fc3b-48f9-964d-22be5ac98151",
   "metadata": {},
   "outputs": [],
   "source": [
    "a = 2"
   ]
  },
  {
   "cell_type": "markdown",
   "id": "8d4e9b66-f120-4c3d-b648-99f5acfd9a3f",
   "metadata": {},
   "source": [
    "This line maintain the value of `b`"
   ]
  },
  {
   "cell_type": "code",
   "execution_count": 2,
   "id": "e421b138-2bd1-4741-aa6a-079ebbc0f7d2",
   "metadata": {},
   "outputs": [],
   "source": [
    "b = a * 2"
   ]
  },
  {
   "cell_type": "markdown",
   "id": "30adf7b4-8bd0-4a84-8c60-895c1a40ce37",
   "metadata": {},
   "source": [
    "This line show the value of `a` + `b`"
   ]
  },
  {
   "cell_type": "code",
   "execution_count": 3,
   "id": "eb45eb63-bbdd-4f77-8df1-389adeaa8fc7",
   "metadata": {},
   "outputs": [
    {
     "name": "stdout",
     "output_type": "stream",
     "text": [
      "6\n"
     ]
    }
   ],
   "source": [
    "print(a + b)"
   ]
  }
 ],
 "metadata": {
  "kernelspec": {
   "display_name": "Python 3 (ipykernel)",
   "language": "python",
   "name": "python3"
  },
  "language_info": {
   "codemirror_mode": {
    "name": "ipython",
    "version": 3
   },
   "file_extension": ".py",
   "mimetype": "text/x-python",
   "name": "python",
   "nbconvert_exporter": "python",
   "pygments_lexer": "ipython3",
   "version": "3.11.5"
  }
 },
 "nbformat": 4,
 "nbformat_minor": 5
}
